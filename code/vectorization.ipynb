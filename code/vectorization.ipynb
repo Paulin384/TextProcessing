{
 "cells": [
  {
   "cell_type": "code",
   "execution_count": 20,
   "id": "a782eb0b",
   "metadata": {},
   "outputs": [],
   "source": [
    "from sklearn.feature_extraction.text import CountVectorizer, TfidfVectorizer\n",
    "import pandas as pd"
   ]
  },
  {
   "cell_type": "code",
   "execution_count": 21,
   "id": "3e0a192b",
   "metadata": {},
   "outputs": [
    {
     "name": "stdout",
     "output_type": "stream",
     "text": [
      "['코로나 거리두기와 코로나 상생지원금 문의입니다.', '지하철 운행시간과 지하철 요금 문의입니다.', '지하철 승강장 문의입니다.', '택시 승강장 문의입니다.']\n"
     ]
    }
   ],
   "source": [
    "corpus = [\"코로나 거리두기와 코로나 상생지원금 문의입니다.\",\n",
    "        \"지하철 운행시간과 지하철 요금 문의입니다.\",\n",
    "        \"지하철 승강장 문의입니다.\",\n",
    "        \"택시 승강장 문의입니다.\"]\n",
    "print(corpus)"
   ]
  },
  {
   "cell_type": "code",
   "execution_count": null,
   "id": "7bc678ed",
   "metadata": {},
   "outputs": [
    {
     "name": "stdout",
     "output_type": "stream",
     "text": [
      "name : CountVectorizer()\n",
      " tokenized by counting - {'코로나': 7, '거리두기와': 0, '상생지원금': 2, '문의입니다': 1, '지하철': 6, '운행시간과': 5, '요금': 4, '승강장': 3, '택시': 8}\n",
      "   거리두기와  문의입니다  상생지원금  승강장  요금  운행시간과  지하철  코로나  택시\n",
      "0      1      1      1    0   0      0    0    2   0\n",
      "1      0      1      0    0   1      1    2    0   0\n",
      "2      0      1      0    1   0      0    1    0   0\n",
      "3      0      1      0    1   0      0    0    0   1\n",
      "name : TfidfVectorizer()\n",
      " tokenized by counting - {'코로나': 7, '거리두기와': 0, '상생지원금': 2, '문의입니다': 1, '지하철': 6, '운행시간과': 5, '요금': 4, '승강장': 3, '택시': 8}\n",
      "      거리두기와     문의입니다     상생지원금       승강장        요금     운행시간과       지하철  \\\n",
      "0  0.399288  0.208365  0.399288  0.000000  0.000000  0.000000  0.000000   \n",
      "1  0.000000  0.239219  0.000000  0.000000  0.458412  0.458412  0.722835   \n",
      "2  0.000000  0.423897  0.000000  0.640434  0.000000  0.000000  0.640434   \n",
      "3  0.000000  0.379192  0.000000  0.572892  0.000000  0.000000  0.000000   \n",
      "\n",
      "        코로나        택시  \n",
      "0  0.798575  0.000000  \n",
      "1  0.000000  0.000000  \n",
      "2  0.000000  0.000000  \n",
      "3  0.000000  0.726641  \n"
     ]
    },
    {
     "ename": "",
     "evalue": "",
     "output_type": "error",
     "traceback": [
      "\u001b[1;31m현재 셀 또는 이전 셀에서 코드를 실행하는 동안 Kernel이 충돌했습니다. \n",
      "\u001b[1;31m셀의 코드를 검토하여 가능한 오류 원인을 식별하세요. \n",
      "\u001b[1;31m자세한 내용을 보려면 <a href='https://aka.ms/vscodeJupyterKernelCrash'>여기</a>를 클릭하세요. \n",
      "\u001b[1;31m자세한 내용은 Jupyter <a href='command:jupyter.viewOutput'>로그</a>를 참조하세요."
     ]
    }
   ],
   "source": [
    "cvt = CountVectorizer()\n",
    "tfidf = TfidfVectorizer()\n",
    "\n",
    "obj = [cvt,tfidf]\n",
    "for i in obj:\n",
    "    countvec = i.fit(corpus)\n",
    "    mat = i.transform(corpus)\n",
    "    print(f'name : {i}')\n",
    "    print(f' tokenized by counting - {countvec.vocabulary_}')\n",
    "    df = pd.DataFrame(mat.toarray(),columns=i.get_feature_names_out(corpus))\n",
    "    print(df.head())\n",
    "    # print(f' name : {i} // \"{{단어\": 인덱스번호}} {i.vocabulary_} // get feature {i.get_feature_names_out()}')"
   ]
  },
  {
   "cell_type": "markdown",
   "id": "e922c51e",
   "metadata": {},
   "source": [
    "##### DTM(Document Term Matrix) 문서 단어 행렬\n",
    "* CountVectorizer는 문서에서 단어의 빈도수를 계산해서 문서 단어 행렬을 만들어주는 작업을 하는 모듈"
   ]
  },
  {
   "cell_type": "code",
   "execution_count": null,
   "id": "171944ee",
   "metadata": {},
   "outputs": [
    {
     "data": {
      "application/vnd.microsoft.datawrangler.viewer.v0+json": {
       "columns": [
        {
         "name": "index",
         "rawType": "int64",
         "type": "integer"
        },
        {
         "name": "거리두기와",
         "rawType": "int64",
         "type": "integer"
        },
        {
         "name": "문의입니다",
         "rawType": "int64",
         "type": "integer"
        },
        {
         "name": "상생지원금",
         "rawType": "int64",
         "type": "integer"
        },
        {
         "name": "승강장",
         "rawType": "int64",
         "type": "integer"
        },
        {
         "name": "요금",
         "rawType": "int64",
         "type": "integer"
        },
        {
         "name": "운행시간과",
         "rawType": "int64",
         "type": "integer"
        },
        {
         "name": "지하철",
         "rawType": "int64",
         "type": "integer"
        },
        {
         "name": "코로나",
         "rawType": "int64",
         "type": "integer"
        },
        {
         "name": "택시",
         "rawType": "int64",
         "type": "integer"
        }
       ],
       "ref": "17e766e0-d724-441e-835d-34c35fdd7219",
       "rows": [
        [
         "0",
         "1",
         "1",
         "1",
         "0",
         "0",
         "0",
         "0",
         "2",
         "0"
        ],
        [
         "1",
         "0",
         "1",
         "0",
         "0",
         "1",
         "1",
         "2",
         "0",
         "0"
        ],
        [
         "2",
         "0",
         "1",
         "0",
         "1",
         "0",
         "0",
         "1",
         "0",
         "0"
        ],
        [
         "3",
         "0",
         "1",
         "0",
         "1",
         "0",
         "0",
         "0",
         "0",
         "1"
        ]
       ],
       "shape": {
        "columns": 9,
        "rows": 4
       }
      },
      "text/html": [
       "<div>\n",
       "<style scoped>\n",
       "    .dataframe tbody tr th:only-of-type {\n",
       "        vertical-align: middle;\n",
       "    }\n",
       "\n",
       "    .dataframe tbody tr th {\n",
       "        vertical-align: top;\n",
       "    }\n",
       "\n",
       "    .dataframe thead th {\n",
       "        text-align: right;\n",
       "    }\n",
       "</style>\n",
       "<table border=\"1\" class=\"dataframe\">\n",
       "  <thead>\n",
       "    <tr style=\"text-align: right;\">\n",
       "      <th></th>\n",
       "      <th>거리두기와</th>\n",
       "      <th>문의입니다</th>\n",
       "      <th>상생지원금</th>\n",
       "      <th>승강장</th>\n",
       "      <th>요금</th>\n",
       "      <th>운행시간과</th>\n",
       "      <th>지하철</th>\n",
       "      <th>코로나</th>\n",
       "      <th>택시</th>\n",
       "    </tr>\n",
       "  </thead>\n",
       "  <tbody>\n",
       "    <tr>\n",
       "      <th>0</th>\n",
       "      <td>1</td>\n",
       "      <td>1</td>\n",
       "      <td>1</td>\n",
       "      <td>0</td>\n",
       "      <td>0</td>\n",
       "      <td>0</td>\n",
       "      <td>0</td>\n",
       "      <td>2</td>\n",
       "      <td>0</td>\n",
       "    </tr>\n",
       "    <tr>\n",
       "      <th>1</th>\n",
       "      <td>0</td>\n",
       "      <td>1</td>\n",
       "      <td>0</td>\n",
       "      <td>0</td>\n",
       "      <td>1</td>\n",
       "      <td>1</td>\n",
       "      <td>2</td>\n",
       "      <td>0</td>\n",
       "      <td>0</td>\n",
       "    </tr>\n",
       "    <tr>\n",
       "      <th>2</th>\n",
       "      <td>0</td>\n",
       "      <td>1</td>\n",
       "      <td>0</td>\n",
       "      <td>1</td>\n",
       "      <td>0</td>\n",
       "      <td>0</td>\n",
       "      <td>1</td>\n",
       "      <td>0</td>\n",
       "      <td>0</td>\n",
       "    </tr>\n",
       "    <tr>\n",
       "      <th>3</th>\n",
       "      <td>0</td>\n",
       "      <td>1</td>\n",
       "      <td>0</td>\n",
       "      <td>1</td>\n",
       "      <td>0</td>\n",
       "      <td>0</td>\n",
       "      <td>0</td>\n",
       "      <td>0</td>\n",
       "      <td>1</td>\n",
       "    </tr>\n",
       "  </tbody>\n",
       "</table>\n",
       "</div>"
      ],
      "text/plain": [
       "   거리두기와  문의입니다  상생지원금  승강장  요금  운행시간과  지하철  코로나  택시\n",
       "0      1      1      1    0   0      0    0    2   0\n",
       "1      0      1      0    0   1      1    2    0   0\n",
       "2      0      1      0    1   0      0    1    0   0\n",
       "3      0      1      0    1   0      0    0    0   1"
      ]
     },
     "execution_count": 12,
     "metadata": {},
     "output_type": "execute_result"
    }
   ],
   "source": [
    "# 문장의 등장 빈도수\n",
    "dtm = cvt.fit_transform(corpus)\n",
    "vocab = cvt.get_feature_names_out()\n",
    "df = pd.DataFrame(dtm.toarray(),columns=vocab)\n",
    "df"
   ]
  },
  {
   "cell_type": "code",
   "execution_count": 16,
   "id": "76ab5b14",
   "metadata": {},
   "outputs": [
    {
     "data": {
      "text/plain": [
       "array([[1, 1, 1, 0, 0, 0, 0, 2, 0],\n",
       "       [0, 1, 0, 0, 1, 1, 2, 0, 0],\n",
       "       [0, 1, 0, 1, 0, 0, 1, 0, 0],\n",
       "       [0, 1, 0, 1, 0, 0, 0, 0, 1]])"
      ]
     },
     "execution_count": 16,
     "metadata": {},
     "output_type": "execute_result"
    }
   ],
   "source": [
    "dtm.toarray()"
   ]
  },
  {
   "cell_type": "markdown",
   "id": "bace0b54",
   "metadata": {},
   "source": [
    "##### N-grams\n",
    "* 토큰을 몇 개 사용할 것인지를 구분합니다. 지정한 n개의 숫자 만큼의 토큰을 묶어서 사용한다.\n",
    "\n",
    "* 예를 들어 (1, 1) 이라면 1개의 토큰을 (2, 3)이라면 2~3개의 토큰을 사용한다.\n",
    "\n",
    "* analyzer 설정에 따라 단어단위, 캐릭터 단위에 따라 사용할 수 있다.\n",
    "\n",
    "* 기본값 = (1, 1)\n",
    "\n",
    "* ngram_range(min_n, max_n)\n",
    "\n",
    "* min_n <= n <= max_n"
   ]
  },
  {
   "cell_type": "code",
   "execution_count": 19,
   "id": "3b6d8f3b",
   "metadata": {},
   "outputs": [
    {
     "data": {
      "application/vnd.microsoft.datawrangler.viewer.v0+json": {
       "columns": [
        {
         "name": "index",
         "rawType": "int64",
         "type": "integer"
        },
        {
         "name": "거리두기와",
         "rawType": "int64",
         "type": "integer"
        },
        {
         "name": "거리두기와 코로나",
         "rawType": "int64",
         "type": "integer"
        },
        {
         "name": "문의입니다",
         "rawType": "int64",
         "type": "integer"
        },
        {
         "name": "상생지원금",
         "rawType": "int64",
         "type": "integer"
        },
        {
         "name": "상생지원금 문의입니다",
         "rawType": "int64",
         "type": "integer"
        },
        {
         "name": "승강장",
         "rawType": "int64",
         "type": "integer"
        },
        {
         "name": "승강장 문의입니다",
         "rawType": "int64",
         "type": "integer"
        },
        {
         "name": "요금",
         "rawType": "int64",
         "type": "integer"
        },
        {
         "name": "요금 문의입니다",
         "rawType": "int64",
         "type": "integer"
        },
        {
         "name": "운행시간과",
         "rawType": "int64",
         "type": "integer"
        },
        {
         "name": "운행시간과 지하철",
         "rawType": "int64",
         "type": "integer"
        },
        {
         "name": "지하철",
         "rawType": "int64",
         "type": "integer"
        },
        {
         "name": "지하철 승강장",
         "rawType": "int64",
         "type": "integer"
        },
        {
         "name": "지하철 요금",
         "rawType": "int64",
         "type": "integer"
        },
        {
         "name": "지하철 운행시간과",
         "rawType": "int64",
         "type": "integer"
        },
        {
         "name": "코로나",
         "rawType": "int64",
         "type": "integer"
        },
        {
         "name": "코로나 거리두기와",
         "rawType": "int64",
         "type": "integer"
        },
        {
         "name": "코로나 상생지원금",
         "rawType": "int64",
         "type": "integer"
        },
        {
         "name": "택시",
         "rawType": "int64",
         "type": "integer"
        },
        {
         "name": "택시 승강장",
         "rawType": "int64",
         "type": "integer"
        }
       ],
       "ref": "ab51e1be-fdee-4e63-b91e-06940828a422",
       "rows": [
        [
         "0",
         "1",
         "1",
         "1",
         "1",
         "1",
         "0",
         "0",
         "0",
         "0",
         "0",
         "0",
         "0",
         "0",
         "0",
         "0",
         "2",
         "1",
         "1",
         "0",
         "0"
        ],
        [
         "1",
         "0",
         "0",
         "1",
         "0",
         "0",
         "0",
         "0",
         "1",
         "1",
         "1",
         "1",
         "2",
         "0",
         "1",
         "1",
         "0",
         "0",
         "0",
         "0",
         "0"
        ],
        [
         "2",
         "0",
         "0",
         "1",
         "0",
         "0",
         "1",
         "1",
         "0",
         "0",
         "0",
         "0",
         "1",
         "1",
         "0",
         "0",
         "0",
         "0",
         "0",
         "0",
         "0"
        ],
        [
         "3",
         "0",
         "0",
         "1",
         "0",
         "0",
         "1",
         "1",
         "0",
         "0",
         "0",
         "0",
         "0",
         "0",
         "0",
         "0",
         "0",
         "0",
         "0",
         "1",
         "1"
        ]
       ],
       "shape": {
        "columns": 20,
        "rows": 4
       }
      },
      "text/html": [
       "<div>\n",
       "<style scoped>\n",
       "    .dataframe tbody tr th:only-of-type {\n",
       "        vertical-align: middle;\n",
       "    }\n",
       "\n",
       "    .dataframe tbody tr th {\n",
       "        vertical-align: top;\n",
       "    }\n",
       "\n",
       "    .dataframe thead th {\n",
       "        text-align: right;\n",
       "    }\n",
       "</style>\n",
       "<table border=\"1\" class=\"dataframe\">\n",
       "  <thead>\n",
       "    <tr style=\"text-align: right;\">\n",
       "      <th></th>\n",
       "      <th>거리두기와</th>\n",
       "      <th>거리두기와 코로나</th>\n",
       "      <th>문의입니다</th>\n",
       "      <th>상생지원금</th>\n",
       "      <th>상생지원금 문의입니다</th>\n",
       "      <th>승강장</th>\n",
       "      <th>승강장 문의입니다</th>\n",
       "      <th>요금</th>\n",
       "      <th>요금 문의입니다</th>\n",
       "      <th>운행시간과</th>\n",
       "      <th>운행시간과 지하철</th>\n",
       "      <th>지하철</th>\n",
       "      <th>지하철 승강장</th>\n",
       "      <th>지하철 요금</th>\n",
       "      <th>지하철 운행시간과</th>\n",
       "      <th>코로나</th>\n",
       "      <th>코로나 거리두기와</th>\n",
       "      <th>코로나 상생지원금</th>\n",
       "      <th>택시</th>\n",
       "      <th>택시 승강장</th>\n",
       "    </tr>\n",
       "  </thead>\n",
       "  <tbody>\n",
       "    <tr>\n",
       "      <th>0</th>\n",
       "      <td>1</td>\n",
       "      <td>1</td>\n",
       "      <td>1</td>\n",
       "      <td>1</td>\n",
       "      <td>1</td>\n",
       "      <td>0</td>\n",
       "      <td>0</td>\n",
       "      <td>0</td>\n",
       "      <td>0</td>\n",
       "      <td>0</td>\n",
       "      <td>0</td>\n",
       "      <td>0</td>\n",
       "      <td>0</td>\n",
       "      <td>0</td>\n",
       "      <td>0</td>\n",
       "      <td>2</td>\n",
       "      <td>1</td>\n",
       "      <td>1</td>\n",
       "      <td>0</td>\n",
       "      <td>0</td>\n",
       "    </tr>\n",
       "    <tr>\n",
       "      <th>1</th>\n",
       "      <td>0</td>\n",
       "      <td>0</td>\n",
       "      <td>1</td>\n",
       "      <td>0</td>\n",
       "      <td>0</td>\n",
       "      <td>0</td>\n",
       "      <td>0</td>\n",
       "      <td>1</td>\n",
       "      <td>1</td>\n",
       "      <td>1</td>\n",
       "      <td>1</td>\n",
       "      <td>2</td>\n",
       "      <td>0</td>\n",
       "      <td>1</td>\n",
       "      <td>1</td>\n",
       "      <td>0</td>\n",
       "      <td>0</td>\n",
       "      <td>0</td>\n",
       "      <td>0</td>\n",
       "      <td>0</td>\n",
       "    </tr>\n",
       "    <tr>\n",
       "      <th>2</th>\n",
       "      <td>0</td>\n",
       "      <td>0</td>\n",
       "      <td>1</td>\n",
       "      <td>0</td>\n",
       "      <td>0</td>\n",
       "      <td>1</td>\n",
       "      <td>1</td>\n",
       "      <td>0</td>\n",
       "      <td>0</td>\n",
       "      <td>0</td>\n",
       "      <td>0</td>\n",
       "      <td>1</td>\n",
       "      <td>1</td>\n",
       "      <td>0</td>\n",
       "      <td>0</td>\n",
       "      <td>0</td>\n",
       "      <td>0</td>\n",
       "      <td>0</td>\n",
       "      <td>0</td>\n",
       "      <td>0</td>\n",
       "    </tr>\n",
       "    <tr>\n",
       "      <th>3</th>\n",
       "      <td>0</td>\n",
       "      <td>0</td>\n",
       "      <td>1</td>\n",
       "      <td>0</td>\n",
       "      <td>0</td>\n",
       "      <td>1</td>\n",
       "      <td>1</td>\n",
       "      <td>0</td>\n",
       "      <td>0</td>\n",
       "      <td>0</td>\n",
       "      <td>0</td>\n",
       "      <td>0</td>\n",
       "      <td>0</td>\n",
       "      <td>0</td>\n",
       "      <td>0</td>\n",
       "      <td>0</td>\n",
       "      <td>0</td>\n",
       "      <td>0</td>\n",
       "      <td>1</td>\n",
       "      <td>1</td>\n",
       "    </tr>\n",
       "  </tbody>\n",
       "</table>\n",
       "</div>"
      ],
      "text/plain": [
       "   거리두기와  거리두기와 코로나  문의입니다  상생지원금  상생지원금 문의입니다  승강장  승강장 문의입니다  요금  요금 문의입니다  \\\n",
       "0      1          1      1      1            1    0          0   0         0   \n",
       "1      0          0      1      0            0    0          0   1         1   \n",
       "2      0          0      1      0            0    1          1   0         0   \n",
       "3      0          0      1      0            0    1          1   0         0   \n",
       "\n",
       "   운행시간과  운행시간과 지하철  지하철  지하철 승강장  지하철 요금  지하철 운행시간과  코로나  코로나 거리두기와  \\\n",
       "0      0          0    0        0       0          0    2          1   \n",
       "1      1          1    2        0       1          1    0          0   \n",
       "2      0          0    1        1       0          0    0          0   \n",
       "3      0          0    0        0       0          0    0          0   \n",
       "\n",
       "   코로나 상생지원금  택시  택시 승강장  \n",
       "0          1   0       0  \n",
       "1          0   0       0  \n",
       "2          0   0       0  \n",
       "3          0   1       1  "
      ]
     },
     "execution_count": 19,
     "metadata": {},
     "output_type": "execute_result"
    }
   ],
   "source": [
    "cvt = CountVectorizer(ngram_range=(1,2))\n",
    "dtm = cvt.fit_transform(corpus).toarray()\n",
    "vocab = cvt.get_feature_names_out(corpus)\n",
    "df = pd.DataFrame(dtm,columns=vocab)\n",
    "df"
   ]
  }
 ],
 "metadata": {
  "kernelspec": {
   "display_name": "text-processing",
   "language": "python",
   "name": "python3"
  },
  "language_info": {
   "codemirror_mode": {
    "name": "ipython",
    "version": 3
   },
   "file_extension": ".py",
   "mimetype": "text/x-python",
   "name": "python",
   "nbconvert_exporter": "python",
   "pygments_lexer": "ipython3",
   "version": "3.11.13"
  }
 },
 "nbformat": 4,
 "nbformat_minor": 5
}
